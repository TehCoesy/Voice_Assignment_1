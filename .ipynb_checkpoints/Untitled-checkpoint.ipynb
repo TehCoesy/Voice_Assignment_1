{
 "cells": [
  {
   "cell_type": "code",
   "execution_count": null,
   "metadata": {},
   "outputs": [],
   "source": [
    "import hmmlearn"
   ]
  },
  {
   "cell_type": "code",
   "execution_count": null,
   "metadata": {},
   "outputs": [],
   "source": [
    "    khong_model = hmmlearn.hmm.MultinomialHMM(\n",
    "        n_components=9, random_state=0, n_iter=1000, verbose=True,params='te',init_params='e'\n",
    "    )\n",
    "    khong_model.startprob_ = np.array([0.5,0.2,0.1,0.1,0.1,0.0,0.0,0.0,0.0])\n",
    "    khong_model.transmat_ = np.array([\n",
    "        [0.7,0.2,0.1,0.0,0.0,0.0,0.0,0.0,0.0],\n",
    "        [0.0,0.7,0.2,0.1,0.0,0.0,0.0,0.0,0.0],\n",
    "        [0.0,0.0,0.7,0.2,0.1,0.0,0.0,0.0,0.0],\n",
    "        [0.0,0.0,0.0,0.7,0.2,0.1,0.0,0.0,0.0],\n",
    "        [0.0,0.0,0.0,0.0,0.7,0.2,0.1,0.0,0.0],\n",
    "        [0.0,0.0,0.0,0.0,0.0,0.7,0.2,0.1,0.0],\n",
    "        [0.0,0.0,0.0,0.0,0.0,0.0,0.7,0.3,0.0],\n",
    "        [0.0,0.0,0.0,0.0,0.0,0.0,0.0,0.5,0.5],\n",
    "        [0.0,0.0,0.0,0.0,0.0,0.0,0.0,0.0,1.0],\n",
    "    ])"
   ]
  }
 ],
 "metadata": {
  "kernelspec": {
   "display_name": "Python 3",
   "language": "python",
   "name": "python3"
  },
  "language_info": {
   "codemirror_mode": {
    "name": "ipython",
    "version": 3
   },
   "file_extension": ".py",
   "mimetype": "text/x-python",
   "name": "python",
   "nbconvert_exporter": "python",
   "pygments_lexer": "ipython3",
   "version": "3.6.9"
  }
 },
 "nbformat": 4,
 "nbformat_minor": 4
}
